{
 "cells": [
  {
   "cell_type": "code",
   "execution_count": null,
   "id": "00f70d87-c650-4589-91aa-6c2f4f987ed0",
   "metadata": {},
   "outputs": [
    {
     "name": "stdout",
     "output_type": "stream",
     "text": [
      "Cross-Validation R^2 Scores: [0.98724345 0.98758471 0.98822989 0.98752566 0.98697429]\n",
      "Average R^2 Score: 0.9875116009660385\n",
      "Cross-Validation MSE Scores (negative): [-214.01808548 -217.27187725 -213.34904857 -209.87090827 -230.64397433]\n",
      "Average MSE: 217.03077878077974\n"
     ]
    }
   ],
   "source": [
    "import pandas as pd\n",
    "from sklearn.linear_model import LinearRegression\n",
    "from sklearn.model_selection import KFold, cross_val_score\n",
    "from sklearn.metrics import mean_squared_error, make_scorer\n",
    "\n",
    "# Load the dataset\n",
    "df = pd.read_csv(\"synthetic_regression_dataset.csv\")\n",
    "\n",
    "# Define features and target\n",
    "X = df.drop(columns=[\"Target\"])\n",
    "y = df[\"Target\"]\n",
    "\n",
    "# Define the model\n",
    "model = LinearRegression()\n",
    "\n",
    "# Set up K-Fold cross-validation\n",
    "kf = KFold(n_splits=5, shuffle=True, random_state=42)\n",
    "\n",
    "# Evaluate the model using cross-validation\n",
    "# We'll use R^2 and Negative Mean Squared Error (neg MSE) as metrics\n",
    "r2_scores = cross_val_score(model, X, y, cv=kf, scoring='r2')\n",
    "neg_mse_scores = cross_val_score(model, X, y, cv=kf, scoring='neg_mean_squared_error')\n",
    "\n",
    "# Print evaluation results\n",
    "print(\"Cross-Validation R^2 Scores:\", r2_scores)\n",
    "print(\"Average R^2 Score:\", r2_scores.mean())\n",
    "print(\"Cross-Validation MSE Scores (negative):\", neg_mse_scores)\n",
    "print(\"Average MSE:\", -neg_mse_scores.mean())\n"
   ]
  },
  {
   "cell_type": "markdown",
   "id": "6167f822",
   "metadata": {},
   "source": [
    "## Questions-  \n",
    "1. What is the purpose of using KFold with n_splits=5 and shuffle=True in the cross-validation setup?\n",
    "2. Why are both R^2 and negative mean squared error used as scoring metrics in the cross_val_score function?\n",
    "3. How does the code calculate the average mean squared error (MSE) from the negative MSE scores obtained during cross-validation?"
   ]
  }
 ],
 "metadata": {
  "kernelspec": {
   "display_name": "Python 3 (ipykernel)",
   "language": "python",
   "name": "python3"
  },
  "language_info": {
   "codemirror_mode": {
    "name": "ipython",
    "version": 3
   },
   "file_extension": ".py",
   "mimetype": "text/x-python",
   "name": "python",
   "nbconvert_exporter": "python",
   "pygments_lexer": "ipython3",
   "version": "3.12.4"
  }
 },
 "nbformat": 4,
 "nbformat_minor": 5
}
